{
 "cells": [
  {
   "cell_type": "markdown",
   "id": "03c12bb4-36ea-4dbd-a547-ba80fa7c47c2",
   "metadata": {},
   "source": [
    "#### The function `vertex_adjacency_matrix` computes the vertex adjacency matrix of a given graph $G$.\n",
    ">#### Input\n",
    "> - `G`: A sage graph object\n",
    ">#### Output\n",
    ">- Returns an $n×n$ sage matrix object(where $n$ is the number of vertices) representing the adjacency relationships between vertices"
   ]
  },
  {
   "cell_type": "code",
   "execution_count": 1,
   "id": "8d23cbe0-ecbf-4199-9da2-439286b3d2aa",
   "metadata": {},
   "outputs": [],
   "source": [
    "def vertex_adjacency_matrix(G):\n",
    "    V = G.vertices()\n",
    "    E = G.edges()\n",
    "    n = len(V)\n",
    "    m = len(E)\n",
    "    VV = {} # Creates a mapping (VV) from vertex labels to integer indices (0 to n-1)\n",
    "    for i in range(n):\n",
    "        VV[V[i]]=i\n",
    "    EE = [] # Converts the edge list (E) to use these integer indices instead of original vertex labels, storing them in EE\n",
    "    for i in range(m):\n",
    "        EE.append((VV[E[i][0]],VV[E[i][1]]))\n",
    "        \n",
    "    AT = [[0 for i in range(n)] for j in range(n)]\n",
    "    for k in range(m):\n",
    "        (ii,jj) = EE[k]\n",
    "        if ii==jj:\n",
    "            AT[ii][jj] +=2 # If an edge connects a vertex to itself (self-loop), add 2 to the corresponding diagonal element\n",
    "        else:\n",
    "            AT[ii][jj] +=1 # If an edge connects different vertices, add 1 to the corresponding matrix elements\n",
    "            AT[jj][ii] +=1\n",
    "    return Matrix(AT)"
   ]
  },
  {
   "cell_type": "markdown",
   "id": "a911f617-9a8c-406f-9286-0171280da467",
   "metadata": {},
   "source": [
    "#### The function `twisted_vertex_adjacency_matrix` creates a special type of adjacency matrix for a graph $G$ with a \"twist\" factor applied to each edge.\n",
    ">#### Input\n",
    "> - `G`: A sage graph object\n",
    "> - `twist`: A list of values (likely complex numbers) that correspond to each edge\n",
    ">#### Output\n",
    "> - Returns an $n×n$ sage matrix object (where $n$ is the number of vertices) representing the twisted vertex adjacency matrix"
   ]
  },
  {
   "cell_type": "code",
   "execution_count": 2,
   "id": "3674293a-f565-4d72-9bac-aee58fcd371f",
   "metadata": {},
   "outputs": [],
   "source": [
    "def twisted_vertex_adjacency_matrix(G,twist):\n",
    "    V = G.vertices()\n",
    "    E = G.edges()\n",
    "    n = len(V)\n",
    "    m = len(E)\n",
    "    VV = {}  # Creates a mapping (VV) from vertex labels to integer indices (0 to n-1)\n",
    "    for i in range(n):\n",
    "        VV[V[i]]=i\n",
    "    EE = []\n",
    "    for i in range(m):\n",
    "        EE.append((VV[E[i][0]],VV[E[i][1]]))  # Converts the edge list (E) to use these integer indices instead of original vertex labels, storing them in EE\n",
    "        \n",
    "    AT = [[0 for i in range(n)] for j in range(n)]\n",
    "    for k in range(m):\n",
    "        (ii,jj) = EE[k]\n",
    "        if ii==jj:\n",
    "            AT[ii][jj] +=twist[k]+conjugate(twist[k])  \n",
    "        else:\n",
    "            AT[ii][jj] +=twist[k]\n",
    "            AT[jj][ii] +=conjugate(twist[k])\n",
    "    return Matrix(AT)"
   ]
  },
  {
   "cell_type": "markdown",
   "id": "bef1a9d9-cc6c-4a94-9975-7e20a6005c47",
   "metadata": {},
   "source": [
    "#### The function `trace_twisted_vertex_adjacency` calculates the trace of a powered twisted vertex adjacency matrix for a graph $G$. \n",
    ">#### Input\n",
    ">- `G`: A sage graph object\n",
    ">- `t`: An integer parameter used to define a root of unity $\\exp(2\\pi i/t)$\n",
    ">- `l`: The power to which the matrix will be raised\n",
    ">- `gamma`: A list of exponents, one for each edge of the graph\n",
    "> #### Output\n",
    ">- Returns the numerical approximation of the trace (sum of diagonal elements) of the resulting matrix"
   ]
  },
  {
   "cell_type": "code",
   "execution_count": 3,
   "id": "715e7f09-2240-4379-a6cc-7c3521e9f786",
   "metadata": {},
   "outputs": [],
   "source": [
    "def trace_twisted_vertex_adjacency(G,t,l,gamma):\n",
    "    m = G.num_edges()\n",
    "    pr  = exp(I*2*pi/t)   # a primitive t-th root of unity\n",
    "    twist = [pr^(gamma[i]) for i in range(m)]\n",
    "    return (numerical_approx(twisted_vertex_adjacency_matrix(G,twist))^l).trace()"
   ]
  },
  {
   "cell_type": "markdown",
   "id": "88182cf4-948f-4f04-877b-6aa3ecc51cb8",
   "metadata": {},
   "source": [
    "#### The function `edge_adjacency_matrix` computes the edge adjacency matrix of a given graph $G$.\n",
    ">#### Input\n",
    "> - `G`: A sage graph object\n",
    ">#### Output\n",
    ">- Returns an $2m×2m$ sage matrix object(where $m$ is the number of edges) representing the adjacency relationships between oriented edges"
   ]
  },
  {
   "cell_type": "code",
   "execution_count": 4,
   "id": "bc632c2a-f514-45d1-b732-52593f604a34",
   "metadata": {},
   "outputs": [],
   "source": [
    "def edge_adjacency_matrix(G):\n",
    "    E = G.edges()\n",
    "    m = len(E)\n",
    "    WT = [[0 for i in range(2*m)] for j in range(2*m)]\n",
    "    for i in range(m):\n",
    "        if E[i][1]==E[i][0]:\n",
    "            WT[i][i]=1\n",
    "            WT[m+i][m+i]= 1\n",
    "        for j in range(m):\n",
    "            if i!=j:\n",
    "                if E[i][1]==E[j][0]:\n",
    "                    WT[i][j]=1\n",
    "                if E[i][1] == E[j][1]:\n",
    "                    WT[i][m+j]=1\n",
    "                if E[i][0]==E[j][0]:\n",
    "                    WT[m+i][j]= 1\n",
    "                if E[i][0]==E[j][1]:\n",
    "                    WT[m+i][m+j]=1\n",
    "    return Matrix(WT)"
   ]
  },
  {
   "cell_type": "markdown",
   "id": "49a78e89-4df1-49b0-83cb-18d2c2afacaa",
   "metadata": {},
   "source": [
    "#### The function `twisted_edge_adjacency_matrix` creates a special type of edge adjacency matrix for a graph $G$ with a \"twist\" factor applied to each edge.\n",
    ">#### Input\n",
    "> - `G`: A sage graph object\n",
    "> - `twist`: A list of values (likely complex numbers) that correspond to each edge\n",
    ">#### Output\n",
    "> - Returns a $2m×2m$ sage matrix object (where $m$ is the number of edges) representing the twisted edge adjacency matrix"
   ]
  },
  {
   "cell_type": "code",
   "execution_count": 5,
   "id": "9e846a4d-4249-4181-a66a-f20fc136b2ae",
   "metadata": {},
   "outputs": [],
   "source": [
    "def twisted_edge_adjacency_matrix(G,twist):\n",
    "    E = G.edges()\n",
    "    m = len(E)\n",
    "    WT = [[0 for i in range(2*m)] for j in range(2*m)]\n",
    "    for i in range(m):\n",
    "        if E[i][1]==E[i][0]:\n",
    "            WT[i][i]=twist[i]\n",
    "            WT[m+i][m+i]= conjugate(twist[i])^(-1)\n",
    "        for j in range(m):\n",
    "            if i!=j:\n",
    "                if E[i][1]==E[j][0]:\n",
    "                    WT[i][j]=twist[i]\n",
    "                if E[i][1] == E[j][1]:\n",
    "                    WT[i][m+j]=twist[i]\n",
    "                if E[i][0]==E[j][0]:\n",
    "                    WT[m+i][j]= conjugate(twist[i])\n",
    "                if E[i][0]==E[j][1]:\n",
    "                    WT[m+i][m+j]=conjugate(twist[i])\n",
    "    return Matrix(WT)"
   ]
  },
  {
   "cell_type": "markdown",
   "id": "ebb63fca-1d70-4364-8571-8b25ebf63b37",
   "metadata": {},
   "source": [
    "#### The function `trace_twisted_edge_adjacency` calculates the trace of a powered twisted edges adjacency matrix for a graph $G$. \n",
    ">#### Input\n",
    ">- `G`: A graph object\n",
    ">- `t`: An integer parameter used to define a root of unity $\\exp(2\\pi i/t)$\n",
    ">- `l`: The power to which the matrix will be raised\n",
    ">- `gamma`: A list of exponents, one for each edge of the graph\n",
    "> #### Output\n",
    ">- Returns the numerical approximation of the trace (sum of diagonal elements) of the resulting matrix"
   ]
  },
  {
   "cell_type": "code",
   "execution_count": 6,
   "id": "314cb60e-17d3-4628-9788-4f3b17e92d0e",
   "metadata": {},
   "outputs": [],
   "source": [
    "def trace_twisted_edge_adjacency(G,t, l, gamma):\n",
    "    m = G.num_edges()\n",
    "    pr  = exp(I*2*pi/t)   # Calculate primitive t-th root of unity\n",
    "    twist = [pr^(gamma[i]) for i in range(m)]   # Create twist values using gamma exponents\n",
    "    return (numerical_approx(twisted_edge_adjacency_matrix(G,twist))^l).trace()"
   ]
  },
  {
   "cell_type": "markdown",
   "id": "3ebfec38-fef3-422e-80fe-57f171eecfb6",
   "metadata": {},
   "source": [
    "#### The function `circuit_count` counts the number of circuits with specified abelianization. \n",
    ">#### Input\n",
    ">- `G`: A graph object\n",
    ">- `F`: A list of edges to modulate\n",
    ">- `t`: An integer parameter used to define a root of unity $\\exp(2\\pi i/t)$\n",
    ">- `l`: length of the circuit\n",
    ">- `alpha`: An element of $C_1(G,\\mathbb{Z}/t\\mathbb{Z})$\n",
    "> #### Output\n",
    ">- Returns the number of circuits whose abelianization mod `t` is identical to `alpha` when restricted to `F`\n",
    "\n",
    "#### The function `closedwalk_count` counts the number of closed walks with specified abelianization. \n",
    ">#### Input\n",
    ">- `G`: A graph object\n",
    ">- `F`: A list of edges to modulate\n",
    ">- `t`: An integer parameter used to define a root of unity $\\exp(2\\pi i/t)$\n",
    ">- `l`: length of the circuit\n",
    ">- `alpha`: An element of $C_1(G,\\mathbb{Z}/t\\mathbb{Z})$\n",
    "> #### Output\n",
    ">- Returns the number of closed walks whose abelianization  mod `t` is identical to `alpha` when restricted to `F`"
   ]
  },
  {
   "cell_type": "code",
   "execution_count": 7,
   "id": "1d159680-b1b3-4227-a7b3-be0f0311c23a",
   "metadata": {},
   "outputs": [],
   "source": [
    "def dot(x,y):\n",
    "    sum = 0\n",
    "    for i in range(len(x)):\n",
    "        sum+=x[i]*y[i]\n",
    "    return sum\n",
    "    \n",
    "def circuit_count(G,F, t,l,alpha):\n",
    "    cnt = 0\n",
    "    m = G.num_edges()\n",
    "    pr  = numerical_approx(exp(I*2*pi/t))  # a primitive t-th root of unity\n",
    "    for i in range(t^len(F)):\n",
    "        ii = i\n",
    "        gamma = [0 for k in range(m)]\n",
    "        for j in range(len(F)):\n",
    "            r = ii%t\n",
    "            gamma[F[j]] = r\n",
    "            ii = ii//t\n",
    "        cnt += pr^(-dot(gamma,alpha))*trace_twisted_edge_adjacency(G,t, l, gamma)\n",
    "    return cnt/(t^len(F))\n",
    "\n",
    "def closedwalk_count(G,F,t,l,alpha):\n",
    "    cnt = 0\n",
    "    m = G.num_edges()\n",
    "    pr  = numerical_approx(exp(I*2*pi/t))\n",
    "    for i in range(t^len(F)):\n",
    "        ii = i\n",
    "        gamma = [0 for k in range(m)]\n",
    "        for j in range(len(F)):\n",
    "            r = ii%t\n",
    "            gamma[F[j]] = r\n",
    "            ii = ii//t\n",
    "        cnt += pr^(-dot(gamma,alpha))*trace_twisted_vertex_adjacency(G,t, l, gamma)\n",
    "            \n",
    "    return cnt/(t^len(F))"
   ]
  },
  {
   "cell_type": "markdown",
   "id": "40a56b35-d2a5-4284-b422-98d3f46c3836",
   "metadata": {},
   "source": [
    "#### The function `arborescence_count` counts the number of arborescences (directed rooted spanning trees) in a graph $G$ using a directed version of Kirchhoff's matrix tree theorem: \n",
    ">#### Input\n",
    ">- `G`: A graph object\n",
    ">- `reverse`: an optional parameter to specify edge orientations\n",
    ">#### Output \n",
    ">- Return the number of arborescences that euqals the determinant of a reduced Laplacian matrix  (excluding the last vertex as root)\n",
    "\n",
    "#### The function `eulerian_count` counts the number of Eulerian cycles on a directed or undirected graph based on the BEST theorem\n",
    ">#### Input\n",
    ">- `G`: A graph object\n",
    ">- `directed`: shows whether it is a counting problem for directed or undirected graph, with a default value of being undirected\n",
    ">- `baseorientation`: an optional parameter to set the initial edge orientations\n",
    "\n",
    ">#### Output \n",
    ">- For directed: returns the number of Eulerian cycles using the BEST theorem and calling to the function `arborescence_count`\n",
    ">- For undirected: returns a tuple of total count of Eulerian cycles and a list of Eulerian orientations relative to the `baseorientation`"
   ]
  },
  {
   "cell_type": "code",
   "execution_count": 8,
   "id": "f418377c-7d00-4d94-b3a8-3ac7201469e6",
   "metadata": {},
   "outputs": [],
   "source": [
    "def arborescence_count(G,reverse=None):\n",
    "    V = G.vertices()\n",
    "    E = G.edges()\n",
    "    n = len(V)\n",
    "    m = len(E)\n",
    "    VV = {}\n",
    "    for i in range(n):\n",
    "        VV[V[i]]=i\n",
    "    EE = []\n",
    "    for i in range(m):\n",
    "        EE.append((VV[E[i][0]],VV[E[i][1]]))\n",
    "\n",
    "\n",
    "    L = [[0 for i in range(n-1)] for j in range(n-1)]\n",
    "    if reverse == None:\n",
    "        reverse = [0]*m\n",
    "    for k in range(m):\n",
    "        ii,jj = EE[k][reverse[k]], EE[k][1-reverse[k]]\n",
    "        if ii<n-1:     # Skip root vertex (n-1)\n",
    "            L[ii][ii]+=1   # Add to diagonal\n",
    "            if jj<n-1:\n",
    "                L[ii][jj]-=1   # Subtract from off-diagonal\n",
    "    #print(Matrix(L))\n",
    "    if n==1:\n",
    "        return 1\n",
    "    else:\n",
    "        return Matrix(L).det() \n",
    "\n",
    "def eulerian_count(G,directed=False, baseorientation = None):\n",
    "    V = G.vertices()\n",
    "    E = G.edges()\n",
    "    n = len(V)\n",
    "    m = len(E)\n",
    "    VV = {}\n",
    "    for i in range(n):\n",
    "        VV[V[i]]=i\n",
    "    EE = []\n",
    "    if baseorientation == None:\n",
    "        baseorientation = [0]*m\n",
    "    \n",
    "    for k in range(m):\n",
    "        EE.append((VV[E[k][baseorientation[k]]],VV[E[k][1-baseorientation[k]]]))\n",
    "    OE = [[] for i in range(n)]\n",
    "    IE = [[] for i in range(n)]\n",
    "    for k in range(m):\n",
    "        OE[EE[k][0]].append(k)\n",
    "        IE[EE[k][1]].append(k)\n",
    "\n",
    "        \n",
    "    if directed==True:\n",
    "        for i in range(n):\n",
    "            if len(OE[i]) !=  len(IE[i]):\n",
    "                raise Exception(\"The directed graph is not Eulerian!\")\n",
    "        temp = 1\n",
    "        for i in range(n):\n",
    "            temp *= factorial(len(OE[i])-1)\n",
    "        return arborescence_count(G,reverse=baseorientation)*temp\n",
    "\n",
    "    else:\n",
    "        EulerianOrientations = []\n",
    "        EulerianCount= 0\n",
    "        for s in range(2^m):\n",
    "            ss = [int(b) for b in bin(s)[2:].zfill(m)]\n",
    "\n",
    "            outdeg = []\n",
    "            for i in range(n):\n",
    "                cnt_out = cnt_in = 0\n",
    "                for k in OE[i]:\n",
    "                    if ss[k]==0:\n",
    "                        cnt_out +=1\n",
    "                    else:\n",
    "                        cnt_in +=1\n",
    "\n",
    "                for k in IE[i]:\n",
    "                    if ss[k]==0:\n",
    "                        cnt_in +=1\n",
    "                    else:\n",
    "                        cnt_out +=1\n",
    "                if cnt_in != cnt_out:\n",
    "                    break\n",
    "                else:\n",
    "                    outdeg.append(cnt_out)\n",
    "\n",
    "            if len(outdeg)==n:\n",
    "                temp = 1\n",
    "                for i in range(n):\n",
    "                    temp *= factorial(outdeg[i]-1)\n",
    "                orb = arborescence_count(G,reverse=[mod(x+y,2) for (x,y) in zip(baseorientation,ss)])\n",
    "                EulerianOrientations.append((ss,orb,temp))\n",
    "                EulerianCount += orb*temp\n",
    "\n",
    "    return EulerianCount, EulerianOrientations"
   ]
  },
  {
   "cell_type": "markdown",
   "id": "c0569409-04b4-4a51-ac85-3eee76dee73b",
   "metadata": {},
   "source": [
    "***\n",
    "#### `G1` corresponds to the graph $G_1$ in Figure 1a of the paper which is non-Eulerian."
   ]
  },
  {
   "cell_type": "code",
   "execution_count": 9,
   "id": "4dc9a1a1-bd7a-481e-8a0a-4eba09e65e43",
   "metadata": {},
   "outputs": [],
   "source": [
    "G1 = Graph({0:[1,2,3],1:[4],2:[5],3:[6],4:[5],5:[6],6:[4]});G1.allow_multiple_edges(True)"
   ]
  },
  {
   "cell_type": "code",
   "execution_count": 10,
   "id": "72fe2cd8-f346-450b-b3ea-72ad2967e600",
   "metadata": {},
   "outputs": [
    {
     "data": {
      "text/plain": [
       "[0, 1, 2, 3, 4, 5, 6]"
      ]
     },
     "execution_count": 10,
     "metadata": {},
     "output_type": "execute_result"
    }
   ],
   "source": [
    "G1.vertices()"
   ]
  },
  {
   "cell_type": "code",
   "execution_count": 11,
   "id": "a8506790-5b9a-4d2e-aba0-ad0dc75eb622",
   "metadata": {},
   "outputs": [
    {
     "data": {
      "text/plain": [
       "[(0, 1, None), (0, 2, None), (0, 3, None), (1, 4, None), (2, 5, None), (3, 6, None), (4, 5, None), (4, 6, None), (5, 6, None)]"
      ]
     },
     "execution_count": 11,
     "metadata": {},
     "output_type": "execute_result"
    }
   ],
   "source": [
    "G1.edges()"
   ]
  },
  {
   "cell_type": "code",
   "execution_count": 12,
   "id": "e9ea7d39-c0bb-4420-a139-d153ec705d65",
   "metadata": {},
   "outputs": [
    {
     "data": {
      "image/png": "[encoded data removed]",
      "text/plain": [
       "Multi-graph on 7 vertices"
      ]
     },
     "execution_count": 12,
     "metadata": {},
     "output_type": "execute_result"
    }
   ],
   "source": [
    "G1"
   ]
  },
  {
   "cell_type": "code",
   "execution_count": 13,
   "id": "43320e2f-7133-4170-b280-7868fa7a3105",
   "metadata": {},
   "outputs": [
    {
     "data": {
      "text/plain": [
       "False"
      ]
     },
     "execution_count": 13,
     "metadata": {},
     "output_type": "execute_result"
    }
   ],
   "source": [
    "G1.is_eulerian()"
   ]
  },
  {
   "cell_type": "markdown",
   "id": "c0bc4bd6-fe41-41ab-8169-bb6894778f8b",
   "metadata": {},
   "source": [
    "***\n",
    "- #### Calling to `eulerian_count` shows that `G1` has no Eulerian cycle as expected.\n",
    "- #### Choosing a spanning tree with edges $\\{0,1,2,3,4,5\\}$ whose complementary edge set is $F=\\{6,7,8\\}$, the formula in Theorem 1.1 of the paper is still computable with result values for circuits and closed walks being 6 and 3282 respectively. But since `G1` is not Eulerian, these values are not equal to the number of Eulerian circuits. \n",
    "- #### On the other hand, using Theorem 3.3, choosing $F$ to be the full edge set $\\{0,1,2,3,4,5,6,7,8\\}$, the correct result $0$ can be derived. "
   ]
  },
  {
   "cell_type": "code",
   "execution_count": 14,
   "id": "067e0e92-89ff-4595-9337-6824bac3561b",
   "metadata": {},
   "outputs": [
    {
     "data": {
      "text/plain": [
       "(0, [])"
      ]
     },
     "execution_count": 14,
     "metadata": {},
     "output_type": "execute_result"
    }
   ],
   "source": [
    "eulerian_count(G1,directed=False, baseorientation = None)"
   ]
  },
  {
   "cell_type": "code",
   "execution_count": 15,
   "id": "7097b160-b339-4f9a-a9dc-0c774eadf7fd",
   "metadata": {},
   "outputs": [
    {
     "data": {
      "text/plain": [
       "(6.00000000000000, 0.000000000000000)"
      ]
     },
     "execution_count": 15,
     "metadata": {},
     "output_type": "execute_result"
    }
   ],
   "source": [
    "circuit_count(G1,[6,7,8], 2,9,[1,1,1,1,1,1,1,1,1]),circuit_count(G1,[0,1,2,3,4,5,6,7,8], 2,9,[1,1,1,1,1,1,1,1,1])"
   ]
  },
  {
   "cell_type": "code",
   "execution_count": 16,
   "id": "27f99a96-ef1c-444c-aa8a-1df46ba8cc7b",
   "metadata": {},
   "outputs": [
    {
     "data": {
      "text/plain": [
       "(3282.00000000000, 0.000000000000000)"
      ]
     },
     "execution_count": 16,
     "metadata": {},
     "output_type": "execute_result"
    }
   ],
   "source": [
    "closedwalk_count(G1,[6,7,8], 2,9,[1,1,1,1,1,1,1,1,1]),closedwalk_count(G1,[0,1,2,3,4,5,6,7,8], 2,9,[1,1,1,1,1,1,1,1,1])"
   ]
  },
  {
   "cell_type": "markdown",
   "id": "710178bd-19c6-4a00-85a7-bd032f3afad3",
   "metadata": {},
   "source": [
    "***\n",
    "#### `G2` corresponds to the graph $G_2$ in Figure 1b of the paper which is Eulerian."
   ]
  },
  {
   "cell_type": "code",
   "execution_count": 17,
   "id": "401a9c19-1635-4daf-8d38-352340495cc8",
   "metadata": {},
   "outputs": [],
   "source": [
    "G2 = Graph({0:[1,2,2,3],1:[2,3,3],2:[3]});G1.allow_multiple_edges(True)"
   ]
  },
  {
   "cell_type": "code",
   "execution_count": 18,
   "id": "b7d3f390-1747-4698-b7e8-1ead39562ccb",
   "metadata": {},
   "outputs": [
    {
     "data": {
      "text/plain": [
       "[0, 1, 2, 3]"
      ]
     },
     "execution_count": 18,
     "metadata": {},
     "output_type": "execute_result"
    }
   ],
   "source": [
    "G2.vertices()"
   ]
  },
  {
   "cell_type": "code",
   "execution_count": 19,
   "id": "1803fb6e-9c17-4ad3-a047-2feec5fa8153",
   "metadata": {},
   "outputs": [
    {
     "data": {
      "text/plain": [
       "[(0, 1, None), (0, 2, None), (0, 2, None), (0, 3, None), (1, 2, None), (1, 3, None), (1, 3, None), (2, 3, None)]"
      ]
     },
     "execution_count": 19,
     "metadata": {},
     "output_type": "execute_result"
    }
   ],
   "source": [
    "G2.edges()"
   ]
  },
  {
   "cell_type": "code",
   "execution_count": 20,
   "id": "67a6556a-f884-4163-a299-7389b6e32438",
   "metadata": {},
   "outputs": [
    {
     "data": {
      "image/png": "[encoded data removed]",
      "text/plain": [
       "Multi-graph on 4 vertices"
      ]
     },
     "execution_count": 20,
     "metadata": {},
     "output_type": "execute_result"
    }
   ],
   "source": [
    "G2"
   ]
  },
  {
   "cell_type": "code",
   "execution_count": 21,
   "id": "56675113-2937-42ad-b63b-6d2f89ad97da",
   "metadata": {},
   "outputs": [
    {
     "data": {
      "text/plain": [
       "True"
      ]
     },
     "execution_count": 21,
     "metadata": {},
     "output_type": "execute_result"
    }
   ],
   "source": [
    "G2.is_eulerian()"
   ]
  },
  {
   "cell_type": "markdown",
   "id": "2eebda30-3e39-4811-84c3-0bc680effe88",
   "metadata": {},
   "source": [
    "***\n",
    "- #### Calling to `eulerian_count` shows that `G2` has $6$ Eulerian cycles as a directed graph. The orientation defined by `baseorientation = [1,1,0,0,0,1,1,0]` is consistent with Figure 1b. \n",
    "- #### Choosing a spanning tree with edges $\\{0,1,3\\}$ whose complementary edge set is $F=\\{2,4,5,6,7\\}$, calling to `circuit_count` and `closedwalk_count` based on the formula in Theorem 4.4 with $t=3$ or $4$, the same result $6$ can be derived. "
   ]
  },
  {
   "cell_type": "code",
   "execution_count": 22,
   "id": "93525109-af14-49a0-bc23-662898a3c6a1",
   "metadata": {},
   "outputs": [
    {
     "data": {
      "text/plain": [
       "6"
      ]
     },
     "execution_count": 22,
     "metadata": {},
     "output_type": "execute_result"
    }
   ],
   "source": [
    "eulerian_count(G2,directed=True, baseorientation = [1,1,0,0,0,1,1,0])"
   ]
  },
  {
   "cell_type": "code",
   "execution_count": 23,
   "id": "f15d7e80-4a7e-4b93-b853-f97d5dcbaf9f",
   "metadata": {},
   "outputs": [
    {
     "data": {
      "text/plain": [
       "(6.00000000000000 - 6.39634664393094e-16*I, 6.00000000000000)"
      ]
     },
     "execution_count": 23,
     "metadata": {},
     "output_type": "execute_result"
    }
   ],
   "source": [
    "circuit_count(G2,[2,4,5,6,7], 3,8,[-1,-1,1,1,1,-1,-1,1])/8, circuit_count(G2,[2,4,5,6,7], 4,8,[-1,-1,1,1,1,-1,-1,1])/8"
   ]
  },
  {
   "cell_type": "code",
   "execution_count": 24,
   "id": "4b8045e7-ce47-467c-9335-b2f2d3374230",
   "metadata": {},
   "outputs": [
    {
     "data": {
      "text/plain": [
       "(6.00000000000001 + 4.67847068813235e-15*I, 6.00000000000000)"
      ]
     },
     "execution_count": 24,
     "metadata": {},
     "output_type": "execute_result"
    }
   ],
   "source": [
    "closedwalk_count(G2,[2,4,5,6,7], 3,8,[-1,-1,1,1,1,-1,-1,1])/8, closedwalk_count(G2,[2,4,5,6,7], 4,8,[-1,-1,1,1,1,-1,-1,1])/8"
   ]
  },
  {
   "cell_type": "markdown",
   "id": "f6153b06-871a-4a11-afc0-83f55062290e",
   "metadata": {},
   "source": [
    "***\n",
    "- #### Calling to `eulerian_count` shows that `G2` has $88$ Eulerian cycles as a directed graph. The $16$ Eulerian orientations are also displayed with respect to `baseorientation = [1,1,0,0,0,1,1,0]`. \n",
    "- #### Also choosing a spanning tree with edges $\\{0,1,3\\}$ whose complementary edge set is $F=\\{2,4,5,6,7\\}$, calling to `circuit_count` and `closedwalk_count` based on the formula in Theorem 1.1 with $t=2$, the same result $88$ can be derived. "
   ]
  },
  {
   "cell_type": "code",
   "execution_count": 25,
   "id": "d0390040-17a9-46c5-a544-155e3977ca06",
   "metadata": {},
   "outputs": [
    {
     "data": {
      "text/plain": [
       "(88,\n",
       " [([0, 0, 0, 0, 0, 0, 0, 0], 6, 1),\n",
       "  ([0, 0, 0, 0, 1, 0, 1, 1], 5, 1),\n",
       "  ([0, 0, 0, 0, 1, 1, 0, 1], 5, 1),\n",
       "  ([0, 1, 0, 1, 1, 0, 1, 0], 6, 1),\n",
       "  ([0, 1, 0, 1, 1, 1, 0, 0], 6, 1),\n",
       "  ([0, 1, 1, 0, 0, 0, 0, 0], 6, 1),\n",
       "  ([0, 1, 1, 0, 1, 0, 1, 1], 5, 1),\n",
       "  ([0, 1, 1, 0, 1, 1, 0, 1], 5, 1),\n",
       "  ([1, 0, 0, 1, 0, 0, 1, 0], 5, 1),\n",
       "  ([1, 0, 0, 1, 0, 1, 0, 0], 5, 1),\n",
       "  ([1, 0, 0, 1, 1, 1, 1, 1], 6, 1),\n",
       "  ([1, 0, 1, 0, 0, 0, 1, 1], 6, 1),\n",
       "  ([1, 0, 1, 0, 0, 1, 0, 1], 6, 1),\n",
       "  ([1, 1, 1, 1, 0, 0, 1, 0], 5, 1),\n",
       "  ([1, 1, 1, 1, 0, 1, 0, 0], 5, 1),\n",
       "  ([1, 1, 1, 1, 1, 1, 1, 1], 6, 1)])"
      ]
     },
     "execution_count": 25,
     "metadata": {},
     "output_type": "execute_result"
    }
   ],
   "source": [
    "eulerian_count(G2,directed=False, baseorientation = [1,1,0,0,0,1,1,0])"
   ]
  },
  {
   "cell_type": "code",
   "execution_count": 26,
   "id": "f0707bc5-e8d7-41c6-ac63-1df9df0f473f",
   "metadata": {},
   "outputs": [
    {
     "data": {
      "text/plain": [
       "(88.0000000000000, 88.0000000000000)"
      ]
     },
     "execution_count": 26,
     "metadata": {},
     "output_type": "execute_result"
    }
   ],
   "source": [
    "circuit_count(G2,[2,4,5,6,7], 2,8,[1,1,1,1,1,1,1,1])/8, closedwalk_count(G2,[2,4,5,6,7], 2,8,[1,1,1,1,1,1,1,1])/8"
   ]
  }
 ],
 "metadata": {
  "kernelspec": {
   "display_name": "SageMath 10.1",
   "language": "sage",
   "name": "sagemath-10.1"
  },
  "language_info": {
   "codemirror_mode": {
    "name": "ipython",
    "version": 3
   },
   "file_extension": ".py",
   "mimetype": "text/x-python",
   "name": "python",
   "nbconvert_exporter": "python",
   "pygments_lexer": "ipython3",
   "version": "3.11.1"
  }
 },
 "nbformat": 4,
 "nbformat_minor": 5
}
